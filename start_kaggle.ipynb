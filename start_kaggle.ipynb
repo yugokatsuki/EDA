{
  "nbformat": 4,
  "nbformat_minor": 0,
  "metadata": {
    "colab": {
      "name": "start_kaggle.ipynb",
      "provenance": [],
      "collapsed_sections": [],
      "mount_file_id": "1XPPV0rIArACmHVOAI0si-i5l8ZkluBzF",
      "authorship_tag": "ABX9TyO00cFemw6guwLyAUpfhleO",
      "include_colab_link": true
    },
    "kernelspec": {
      "name": "python3",
      "display_name": "Python 3"
    }
  },
  "cells": [
    {
      "cell_type": "markdown",
      "metadata": {
        "id": "view-in-github",
        "colab_type": "text"
      },
      "source": [
        "<a href=\"https://colab.research.google.com/github/yugokatsuki/EDA/blob/master/start_kaggle.ipynb\" target=\"_parent\"><img src=\"https://colab.research.google.com/assets/colab-badge.svg\" alt=\"Open In Colab\"/></a>"
      ]
    },
    {
      "cell_type": "markdown",
      "metadata": {
        "id": "GdBBtohTq6el"
      },
      "source": [
        ""
      ]
    },
    {
      "cell_type": "code",
      "metadata": {
        "id": "ocglMLAcwiIE",
        "colab": {
          "base_uri": "https://localhost:8080/"
        },
        "outputId": "9ac2334b-65e0-4199-aede-848773d1623e"
      },
      "source": [
        "from googleapiclient.discovery import build\r\n",
        "import io, os\r\n",
        "from googleapiclient.http import MediaIoBaseDownload\r\n",
        "from google.colab import auth\r\n",
        "\r\n",
        "auth.authenticate_user()\r\n",
        "    \r\n",
        "drive_service = build('drive', 'v3')\r\n",
        "results = drive_service.files().list(q=\"name = 'kaggle.json'\", fields=\"files(id)\").execute()\r\n",
        "kaggle_api_key = results.get('files', [])\r\n",
        "print(results)\r\n",
        "print(kaggle_api_key)\r\n",
        "\r\n",
        "filename = \"/root/.kaggle/kaggle.json\"\r\n",
        "os.makedirs(os.path.dirname(filename), exist_ok=True)\r\n",
        "\r\n",
        "request = drive_service.files().get_media(fileId=kaggle_api_key[0]['id'])\r\n",
        "fh = io.FileIO(filename, 'wb')\r\n",
        "downloader = MediaIoBaseDownload(fh, request)\r\n",
        "done = False\r\n",
        "while done is False:\r\n",
        "    status, done = downloader.next_chunk()\r\n",
        "    print(\"Download %d%%.\" % int(status.progress() * 100))\r\n",
        "os.chmod(filename, 600)\r\n"
      ],
      "execution_count": 1,
      "outputs": [
        {
          "output_type": "stream",
          "text": [
            "{'files': [{'id': '1VPZvpe5aOfNJNuKxlnOiSN0DTxD6JUIg'}]}\n",
            "[{'id': '1VPZvpe5aOfNJNuKxlnOiSN0DTxD6JUIg'}]\n",
            "Download 100%.\n"
          ],
          "name": "stdout"
        }
      ]
    },
    {
      "cell_type": "code",
      "metadata": {
        "colab": {
          "base_uri": "https://localhost:8080/"
        },
        "id": "xfI-82KBwg7S",
        "outputId": "a8f2428b-416d-446e-f18e-3e0d01c18a28"
      },
      "source": [
        "  !pip install kaggle\r\n"
      ],
      "execution_count": 2,
      "outputs": [
        {
          "output_type": "stream",
          "text": [
            "Requirement already satisfied: kaggle in /usr/local/lib/python3.6/dist-packages (1.5.10)\n",
            "Requirement already satisfied: certifi in /usr/local/lib/python3.6/dist-packages (from kaggle) (2020.12.5)\n",
            "Requirement already satisfied: requests in /usr/local/lib/python3.6/dist-packages (from kaggle) (2.23.0)\n",
            "Requirement already satisfied: urllib3 in /usr/local/lib/python3.6/dist-packages (from kaggle) (1.24.3)\n",
            "Requirement already satisfied: six>=1.10 in /usr/local/lib/python3.6/dist-packages (from kaggle) (1.15.0)\n",
            "Requirement already satisfied: python-dateutil in /usr/local/lib/python3.6/dist-packages (from kaggle) (2.8.1)\n",
            "Requirement already satisfied: python-slugify in /usr/local/lib/python3.6/dist-packages (from kaggle) (4.0.1)\n",
            "Requirement already satisfied: tqdm in /usr/local/lib/python3.6/dist-packages (from kaggle) (4.41.1)\n",
            "Requirement already satisfied: idna<3,>=2.5 in /usr/local/lib/python3.6/dist-packages (from requests->kaggle) (2.10)\n",
            "Requirement already satisfied: chardet<4,>=3.0.2 in /usr/local/lib/python3.6/dist-packages (from requests->kaggle) (3.0.4)\n",
            "Requirement already satisfied: text-unidecode>=1.3 in /usr/local/lib/python3.6/dist-packages (from python-slugify->kaggle) (1.3)\n"
          ],
          "name": "stdout"
        }
      ]
    },
    {
      "cell_type": "code",
      "metadata": {
        "colab": {
          "base_uri": "https://localhost:8080/"
        },
        "id": "EL9PnfEf1mI9",
        "outputId": "df1e1fbb-1d34-4b3e-83ec-4763229926f5"
      },
      "source": [
        "!kaggle competitions list"
      ],
      "execution_count": 3,
      "outputs": [
        {
          "output_type": "stream",
          "text": [
            "Warning: Looks like you're using an outdated API Version, please consider updating (server 1.5.10 / client 1.5.4)\n",
            "ref                                            deadline             category            reward  teamCount  userHasEntered  \n",
            "---------------------------------------------  -------------------  ---------------  ---------  ---------  --------------  \n",
            "contradictory-my-dear-watson                   2030-07-01 23:59:00  Getting Started     Prizes         89           False  \n",
            "gan-getting-started                            2030-07-01 23:59:00  Getting Started     Prizes        187           False  \n",
            "tpu-getting-started                            2030-06-03 23:59:00  Getting Started  Knowledge        286           False  \n",
            "digit-recognizer                               2030-01-01 00:00:00  Getting Started  Knowledge       2184           False  \n",
            "titanic                                        2030-01-01 00:00:00  Getting Started  Knowledge      17170            True  \n",
            "house-prices-advanced-regression-techniques    2030-01-01 00:00:00  Getting Started  Knowledge       4647           False  \n",
            "connectx                                       2030-01-01 00:00:00  Getting Started  Knowledge        390           False  \n",
            "nlp-getting-started                            2030-01-01 00:00:00  Getting Started  Knowledge       1229           False  \n",
            "competitive-data-science-predict-future-sales  2022-12-31 23:59:00  Playground           Kudos       9964           False  \n",
            "ranzcr-clip-catheter-line-classification       2021-03-15 23:59:00  Featured           $50,000        275           False  \n",
            "jane-street-market-prediction                  2021-02-22 23:59:00  Featured          $100,000       1613           False  \n",
            "cassava-leaf-disease-classification            2021-02-18 23:59:00  Research           $18,000       1878           False  \n",
            "rfcx-species-audio-detection                   2021-02-17 23:59:00  Research           $15,000        587           False  \n",
            "acea-water-prediction                          2021-02-17 23:59:00  Analytics          $25,000          0           False  \n",
            "rock-paper-scissors                            2021-02-01 23:59:00  Playground          Prizes       1258           False  \n",
            "hubmap-kidney-segmentation                     2021-02-01 23:59:00  Research           $60,000        670           False  \n",
            "santa-2020                                     2021-02-01 23:59:00  Featured            Prizes        542           False  \n",
            "riiid-test-answer-prediction                   2021-01-07 23:59:00  Featured          $100,000       3122           False  \n",
            "predict-volcanic-eruptions-ingv-oe             2021-01-06 23:59:00  Playground            Swag        536           False  \n",
            "kaggle-survey-2020                             2021-01-06 23:59:00  Analytics          $30,000          0           False  \n"
          ],
          "name": "stdout"
        }
      ]
    },
    {
      "cell_type": "code",
      "metadata": {
        "colab": {
          "base_uri": "https://localhost:8080/"
        },
        "id": "DwxRFjl33xWk",
        "outputId": "77a2caed-cfc3-4442-fc8a-fa3ce0147236"
      },
      "source": [
        "!kaggle competitions download -c titanic"
      ],
      "execution_count": 4,
      "outputs": [
        {
          "output_type": "stream",
          "text": [
            "Warning: Looks like you're using an outdated API Version, please consider updating (server 1.5.10 / client 1.5.4)\n",
            "Downloading train.csv to /content\n",
            "  0% 0.00/59.8k [00:00<?, ?B/s]\n",
            "100% 59.8k/59.8k [00:00<00:00, 9.04MB/s]\n",
            "Downloading gender_submission.csv to /content\n",
            "  0% 0.00/3.18k [00:00<?, ?B/s]\n",
            "100% 3.18k/3.18k [00:00<00:00, 3.21MB/s]\n",
            "Downloading test.csv to /content\n",
            "  0% 0.00/28.0k [00:00<?, ?B/s]\n",
            "100% 28.0k/28.0k [00:00<00:00, 45.3MB/s]\n"
          ],
          "name": "stdout"
        }
      ]
    },
    {
      "cell_type": "code",
      "metadata": {
        "id": "X4NFhAre6Rp5"
      },
      "source": [
        "import numpy as np\r\n",
        "import pandas as pd\r\n",
        "#import tensorflow as tf\r\n",
        "import tensorflow.compat.v1 as tf\r\n",
        "tf.compat.v1.disable_eager_execution()\r\n",
        "import time\r\n",
        "\r\n",
        "def parse(df):\r\n",
        "    # Nan を -1 に置換\r\n",
        "    df[\"Age\"] = df[\"Age\"].fillna(-1)\r\n",
        "    df[\"Embarked\"] = df[\"Embarked\"].fillna(-1)\r\n",
        "    # 文字列を数値に変換\r\n",
        "    df[\"Sex\"][df[\"Sex\"] == \"male\"] = 0\r\n",
        "    df[\"Sex\"][df[\"Sex\"] == \"female\"] = 1\r\n",
        "    df[\"Embarked\"][df[\"Embarked\"] == \"S\" ] = 0\r\n",
        "    df[\"Embarked\"][df[\"Embarked\"] == \"C\" ] = 1\r\n",
        "    df[\"Embarked\"][df[\"Embarked\"] == \"Q\"] = 2\r\n",
        "    return df\r\n",
        "\r\n",
        "def split_val(x,y,rate,seed=None):\r\n",
        "  print(f\"rate = {rate}\")\r\n",
        "  print(\"rate = {}\".format(rate))\r\n",
        "  \r\n",
        "  if seed is not None:\r\n",
        "    np.random.seed(seed)\r\n",
        "  N = x.shape[0]\r\n",
        "  perm = np.random.permutation(N)\r\n",
        "  valnum = int(rate * N)\r\n",
        "  index1 = perm[:(-valnum)]\r\n",
        "  index2 = perm[(-valnum):]\r\n",
        "  return x[index1],y[index1],x[index2],y[index2]\r\n",
        "\r\n",
        "def load_data():\r\n",
        "    train_csv = pd.read_csv('train.csv')\r\n",
        "    #before inputting the data, extract the value \r\n",
        "    train_csv = parse(train_csv)\r\n",
        "    train_x = train_csv[['Pclass', 'Sex', 'Fare','SibSp', 'Parch', 'Age', 'Embarked']].values\r\n",
        "    train_y = train_csv['Survived'].values\r\n",
        "    print(train_x.shape)\r\n",
        "    return split_val(train_x,train_y,0.1)\r\n"
      ],
      "execution_count": 71,
      "outputs": []
    },
    {
      "cell_type": "code",
      "metadata": {
        "colab": {
          "base_uri": "https://localhost:8080/"
        },
        "id": "wUM144dBrtcb",
        "outputId": "59ebdef3-a3fc-48bb-acb8-31f295c20145"
      },
      "source": [
        "def create_model(input_placeholder,u_dim,layer_num,y_dim,training):\r\n",
        "    h = input_placeholder\r\n",
        "    for i in range(layer_num):\r\n",
        "        h = tf.layers.dense(inputs=h, units=u_dim,activation=tf.nn.relu)\r\n",
        "        h = tf.layers.batch_normalization(h,training=training)  \r\n",
        "    h = tf.layers.dense(inputs=h, units=y_dim)\r\n",
        "    return h\r\n",
        "\r\n",
        "np.random.seed(0)\r\n",
        "tf.reset_default_graph()\r\n",
        "#from tensorflow.keras import backend\r\n",
        "\r\n",
        "y_dim     = 2\r\n",
        "# hyperparameters\r\n",
        "u_dim     = 100\r\n",
        "layer_num = 2\r\n",
        "epoch     = 1000\r\n",
        "log_freq  = 100\r\n",
        "batchsize = 200\r\n",
        "lr        = 0.001\r\n",
        "\r\n",
        "# data load\r\n",
        "train_x,train_y,val_x,val_y = load_data()\r\n",
        "N  = train_y.shape[0]\r\n",
        "Nv = val_y.shape[0]\r\n",
        "print('train num: {}, val num: {}'.format(N,Nv))\r\n",
        "\r\n",
        "# calculation graph\r\n",
        "x = tf.placeholder(tf.float32, [None, train_x.shape[1]],\"input\")\r\n",
        "y = tf.placeholder(tf.int32, [None])\r\n",
        "\r\n",
        "with tf.variable_scope(\"model\"):\r\n",
        "  train_z = create_model(x,u_dim,layer_num,y_dim,training=True)\r\n",
        "with tf.variable_scope(\"model\", reuse=True):\r\n",
        "  z       = create_model(x,u_dim,layer_num,y_dim,training=False)\r\n",
        "\r\n",
        "cross_entropy = tf.losses.sparse_softmax_cross_entropy(labels=y, logits=train_z)\r\n",
        "\r\n",
        "extra_ops = tf.get_collection(tf.GraphKeys.UPDATE_OPS)\r\n",
        "with tf.control_dependencies(extra_ops):\r\n",
        "  train_step = tf.train.AdamOptimizer(lr).minimize(cross_entropy)\r\n",
        "\r\n",
        "pred_y = tf.cast(tf.argmax(z, 1), tf.int32)\r\n",
        "accuracy = tf.reduce_mean(tf.cast(tf.equal(pred_y, y), tf.float32))\r\n",
        "\r\n",
        "# main loop\r\n",
        "sess = tf.InteractiveSession()\r\n",
        "tf.global_variables_initializer().run()\r\n",
        "T = time.time() \r\n",
        "for ep in range(1,epoch+1) :\r\n",
        "  perm=np.random.permutation(N)\r\n",
        "  for i in range(0,N,batchsize):\r\n",
        "    batch_xs=train_x[perm[i:i+batchsize]]\r\n",
        "    batch_ys=train_y[perm[i:i+batchsize]]\r\n",
        "    sess.run(train_step, feed_dict={x: batch_xs, y: batch_ys})\r\n",
        "  # monitor\r\n",
        "  if ep%log_freq ==0 :      \r\n",
        "    train_loss, train_acc = sess.run([cross_entropy, accuracy], feed_dict={x: train_x, y: train_y})\r\n",
        "    val_loss, val_acc     = sess.run([cross_entropy, accuracy], feed_dict={x: val_x, y: val_y})\r\n",
        "    epochT = time.time()-T\r\n",
        "    print('Epoch: %d, Time :%.4f (s), train_loss: %f,  train_acc: %f, val_loss: %f,  val_acc: %f' % (ep, epochT, train_loss, train_acc, val_loss, val_acc))\r\n",
        "    T = time.time()\r\n"
      ],
      "execution_count": 73,
      "outputs": [
        {
          "output_type": "stream",
          "text": [
            "/usr/local/lib/python3.6/dist-packages/ipykernel_launcher.py:13: SettingWithCopyWarning: \n",
            "A value is trying to be set on a copy of a slice from a DataFrame\n",
            "\n",
            "See the caveats in the documentation: https://pandas.pydata.org/pandas-docs/stable/user_guide/indexing.html#returning-a-view-versus-a-copy\n",
            "  del sys.path[0]\n",
            "/usr/local/lib/python3.6/dist-packages/ipykernel_launcher.py:14: SettingWithCopyWarning: \n",
            "A value is trying to be set on a copy of a slice from a DataFrame\n",
            "\n",
            "See the caveats in the documentation: https://pandas.pydata.org/pandas-docs/stable/user_guide/indexing.html#returning-a-view-versus-a-copy\n",
            "  \n",
            "/usr/local/lib/python3.6/dist-packages/ipykernel_launcher.py:15: SettingWithCopyWarning: \n",
            "A value is trying to be set on a copy of a slice from a DataFrame\n",
            "\n",
            "See the caveats in the documentation: https://pandas.pydata.org/pandas-docs/stable/user_guide/indexing.html#returning-a-view-versus-a-copy\n",
            "  from ipykernel import kernelapp as app\n",
            "/usr/local/lib/python3.6/dist-packages/ipykernel_launcher.py:16: SettingWithCopyWarning: \n",
            "A value is trying to be set on a copy of a slice from a DataFrame\n",
            "\n",
            "See the caveats in the documentation: https://pandas.pydata.org/pandas-docs/stable/user_guide/indexing.html#returning-a-view-versus-a-copy\n",
            "  app.launch_new_instance()\n",
            "/usr/local/lib/python3.6/dist-packages/ipykernel_launcher.py:17: SettingWithCopyWarning: \n",
            "A value is trying to be set on a copy of a slice from a DataFrame\n",
            "\n",
            "See the caveats in the documentation: https://pandas.pydata.org/pandas-docs/stable/user_guide/indexing.html#returning-a-view-versus-a-copy\n",
            "/usr/local/lib/python3.6/dist-packages/tensorflow/python/keras/legacy_tf_layers/core.py:171: UserWarning: `tf.layers.dense` is deprecated and will be removed in a future version. Please use `tf.keras.layers.Dense` instead.\n",
            "  warnings.warn('`tf.layers.dense` is deprecated and '\n",
            "/usr/local/lib/python3.6/dist-packages/tensorflow/python/keras/engine/base_layer_v1.py:1719: UserWarning: `layer.apply` is deprecated and will be removed in a future version. Please use `layer.__call__` method instead.\n",
            "  warnings.warn('`layer.apply` is deprecated and '\n",
            "/usr/local/lib/python3.6/dist-packages/tensorflow/python/keras/legacy_tf_layers/normalization.py:308: UserWarning: `tf.layers.batch_normalization` is deprecated and will be removed in a future version. Please use `tf.keras.layers.BatchNormalization` instead. In particular, `tf.control_dependencies(tf.GraphKeys.UPDATE_OPS)` should not be used (consult the `tf.keras.layers.BatchNormalization` documentation).\n",
            "  '`tf.layers.batch_normalization` is deprecated and '\n"
          ],
          "name": "stderr"
        },
        {
          "output_type": "stream",
          "text": [
            "(891, 7)\n",
            "rate = 0.1\n",
            "rate = 0.1\n",
            "train num: 802, val num: 89\n"
          ],
          "name": "stdout"
        },
        {
          "output_type": "stream",
          "text": [
            "/usr/local/lib/python3.6/dist-packages/tensorflow/python/client/session.py:1761: UserWarning: An interactive session is already active. This can cause out-of-memory errors in some cases. You must explicitly call `InteractiveSession.close()` to release resources held by the other session(s).\n",
            "  warnings.warn('An interactive session is already active. This can '\n"
          ],
          "name": "stderr"
        },
        {
          "output_type": "stream",
          "text": [
            "Epoch: 100, Time :1.2418 (s), train_loss: 0.411638,  train_acc: 0.814214, val_loss: 0.441899,  val_acc: 0.775281\n",
            "Epoch: 200, Time :1.2151 (s), train_loss: 0.425965,  train_acc: 0.770574, val_loss: 0.455679,  val_acc: 0.820225\n",
            "Epoch: 300, Time :1.1913 (s), train_loss: 0.396882,  train_acc: 0.809227, val_loss: 0.438809,  val_acc: 0.752809\n",
            "Epoch: 400, Time :1.1799 (s), train_loss: 0.415363,  train_acc: 0.824190, val_loss: 0.445120,  val_acc: 0.741573\n",
            "Epoch: 500, Time :1.1903 (s), train_loss: 0.396813,  train_acc: 0.831671, val_loss: 0.447367,  val_acc: 0.786517\n",
            "Epoch: 600, Time :1.2345 (s), train_loss: 0.401921,  train_acc: 0.831671, val_loss: 0.508341,  val_acc: 0.741573\n",
            "Epoch: 700, Time :1.1779 (s), train_loss: 0.394775,  train_acc: 0.745636, val_loss: 0.537627,  val_acc: 0.741573\n",
            "Epoch: 800, Time :1.2202 (s), train_loss: 0.374067,  train_acc: 0.837905, val_loss: 0.442154,  val_acc: 0.764045\n",
            "Epoch: 900, Time :1.1858 (s), train_loss: 0.363301,  train_acc: 0.837905, val_loss: 0.433287,  val_acc: 0.797753\n",
            "Epoch: 1000, Time :1.1978 (s), train_loss: 0.381851,  train_acc: 0.816708, val_loss: 0.446317,  val_acc: 0.797753\n"
          ],
          "name": "stdout"
        }
      ]
    },
    {
      "cell_type": "code",
      "metadata": {
        "colab": {
          "base_uri": "https://localhost:8080/"
        },
        "id": "sFWMwWTg14VS",
        "outputId": "6f905d54-78e2-469b-bb6e-ad25ede0bd4e"
      },
      "source": [
        "# data\r\n",
        "test_csv = pd.read_csv('test.csv')\r\n",
        "test_csv = parse(test_csv)\r\n",
        "test_x = test_csv[['Pclass', 'Sex', 'Fare','SibSp', 'Parch', 'Age', 'Embarked']].values\r\n",
        "# predict\r\n",
        "prediction = sess.run(pred_y, feed_dict={x: test_x})\r\n",
        "# parse\r\n",
        "PassengerId = np.array(test_csv[\"PassengerId\"]).astype(int)\r\n",
        "my_solution = pd.DataFrame(prediction, PassengerId, columns = [\"Survived\"])\r\n",
        "# save\r\n",
        "my_solution.to_csv(\"result.csv\", index_label = [\"PassengerId\"])\r\n",
        "\r\n"
      ],
      "execution_count": 74,
      "outputs": [
        {
          "output_type": "stream",
          "text": [
            "/usr/local/lib/python3.6/dist-packages/ipykernel_launcher.py:13: SettingWithCopyWarning: \n",
            "A value is trying to be set on a copy of a slice from a DataFrame\n",
            "\n",
            "See the caveats in the documentation: https://pandas.pydata.org/pandas-docs/stable/user_guide/indexing.html#returning-a-view-versus-a-copy\n",
            "  del sys.path[0]\n",
            "/usr/local/lib/python3.6/dist-packages/ipykernel_launcher.py:14: SettingWithCopyWarning: \n",
            "A value is trying to be set on a copy of a slice from a DataFrame\n",
            "\n",
            "See the caveats in the documentation: https://pandas.pydata.org/pandas-docs/stable/user_guide/indexing.html#returning-a-view-versus-a-copy\n",
            "  \n",
            "/usr/local/lib/python3.6/dist-packages/ipykernel_launcher.py:15: SettingWithCopyWarning: \n",
            "A value is trying to be set on a copy of a slice from a DataFrame\n",
            "\n",
            "See the caveats in the documentation: https://pandas.pydata.org/pandas-docs/stable/user_guide/indexing.html#returning-a-view-versus-a-copy\n",
            "  from ipykernel import kernelapp as app\n",
            "/usr/local/lib/python3.6/dist-packages/ipykernel_launcher.py:16: SettingWithCopyWarning: \n",
            "A value is trying to be set on a copy of a slice from a DataFrame\n",
            "\n",
            "See the caveats in the documentation: https://pandas.pydata.org/pandas-docs/stable/user_guide/indexing.html#returning-a-view-versus-a-copy\n",
            "  app.launch_new_instance()\n",
            "/usr/local/lib/python3.6/dist-packages/ipykernel_launcher.py:17: SettingWithCopyWarning: \n",
            "A value is trying to be set on a copy of a slice from a DataFrame\n",
            "\n",
            "See the caveats in the documentation: https://pandas.pydata.org/pandas-docs/stable/user_guide/indexing.html#returning-a-view-versus-a-copy\n"
          ],
          "name": "stderr"
        }
      ]
    },
    {
      "cell_type": "markdown",
      "metadata": {
        "id": "4_kkRfSNAFT_"
      },
      "source": [
        "# 新しいセクション"
      ]
    },
    {
      "cell_type": "code",
      "metadata": {
        "colab": {
          "base_uri": "https://localhost:8080/"
        },
        "id": "DVtmEmm92BG-",
        "outputId": "d7a077ca-5485-4c30-d5d0-8c28db319627"
      },
      "source": [
        "!kaggle competitions submit -c titanic -f result.csv -m 'first submit'"
      ],
      "execution_count": 75,
      "outputs": [
        {
          "output_type": "stream",
          "text": [
            "Warning: Looks like you're using an outdated API Version, please consider updating (server 1.5.10 / client 1.5.4)\n",
            "100% 2.77k/2.77k [00:00<00:00, 12.8kB/s]\n",
            "Successfully submitted to Titanic - Machine Learning from Disaster"
          ],
          "name": "stdout"
        }
      ]
    }
  ]
}